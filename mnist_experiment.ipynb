{
 "cells": [
  {
   "cell_type": "code",
   "execution_count": null,
   "id": "bff0d670",
   "metadata": {},
   "outputs": [],
   "source": [
    "# Se estiver no Colab, normalmente o TF já está instalado. Caso precise forçar versão:\n",
    "# !pip install -q tensorflow==2.11.0\n",
    "\n",
    "\n",
    "import numpy as np\n",
    "import tensorflow as tf\n",
    "import matplotlib.pyplot as plt\n",
    "from tensorflow.keras.models import load_model\n",
    "\n",
    "\n",
    "from utils import preprocess_mnist, add_gaussian_noise, plot_history, sample_images\n",
    "\n",
    "\n",
    "print('TF:', tf.__version__)"
   ]
  },
  {
   "cell_type": "code",
   "execution_count": null,
   "id": "42af2977",
   "metadata": {},
   "outputs": [],
   "source": [
    "# Caso não tenha subido os .py ao Colab, cole aqui o conteúdo de utils.py e de main.py.\n",
    "# Alternativa: subir os arquivos com o upload do Colab (Files -> Upload)\n",
    "\n",
    "\n",
    "# Exemplo: carregar utils.py após upload\n",
    "# from google.colab import files\n",
    "# uploaded = files.upload()\n",
    "# import utils"
   ]
  },
  {
   "cell_type": "code",
   "execution_count": null,
   "id": "8e487407",
   "metadata": {},
   "outputs": [],
   "source": [
    "# Se já tiver os arquivos no ambiente (utils.py e main.py), execute main.py\n",
    "!python main.py"
   ]
  },
  {
   "cell_type": "code",
   "execution_count": null,
   "id": "0fc8b60c",
   "metadata": {},
   "outputs": [],
   "source": [
    "m_normal = load_model('saved_models/mlp_normal_init.h5')\n",
    "m_const = load_model('saved_models/mlp_constant_init.h5')\n",
    "\n",
    "\n",
    "(x_train, y_train), (x_test, y_test) = tf.keras.datasets.mnist.load_data()\n",
    "x_train, x_test = preprocess_mnist(x_train, x_test)\n",
    "x_test_noisy = add_gaussian_noise(x_test, std=0.2, seed=42)\n",
    "\n",
    "\n",
    "print('\\nAvaliação modelo normal')\n",
    "print(m_normal.evaluate(x_test, y_test))\n",
    "print(m_normal.evaluate(x_test_noisy, y_test))\n",
    "\n",
    "\n",
    "print('\\nAvaliação modelo constante')\n",
    "print(m_const.evaluate(x_test, y_test))\n",
    "print(m_const.evaluate(x_test_noisy, y_test))"
   ]
  }
 ],
 "metadata": {
  "language_info": {
   "name": "python"
  }
 },
 "nbformat": 4,
 "nbformat_minor": 5
}
