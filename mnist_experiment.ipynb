{
 "cells": [
  {
   "cell_type": "code",
   "execution_count": null,
   "id": "f7dea333",
   "metadata": {},
   "outputs": [
    {
     "name": "stdout",
     "output_type": "stream",
     "text": [
      "⏳ Instalando TensorFlow...\n"
     ]
    },
    {
     "name": "stderr",
     "output_type": "stream",
     "text": [
      "\u001b[31mERROR: Could not find a version that satisfies the requirement tensorflow>=2.16.0 (from versions: none)\u001b[0m\u001b[31m\n",
      "\u001b[0m\u001b[31mERROR: No matching distribution found for tensorflow>=2.16.0\u001b[0m\u001b[31m\n",
      "\u001b[0m"
     ]
    },
    {
     "ename": "CalledProcessError",
     "evalue": "Command '['/Users/Rafael-Freitas/Desktop/Estudos/venv/bin/python', '-m', 'pip', 'install', '-q', 'tensorflow>=2.16.0']' returned non-zero exit status 1.",
     "output_type": "error",
     "traceback": [
      "\u001b[31m---------------------------------------------------------------------------\u001b[39m",
      "\u001b[31mModuleNotFoundError\u001b[39m                       Traceback (most recent call last)",
      "\u001b[36mCell\u001b[39m\u001b[36m \u001b[39m\u001b[32mIn[2]\u001b[39m\u001b[32m, line 10\u001b[39m\n\u001b[32m      9\u001b[39m \u001b[38;5;28;01mtry\u001b[39;00m:\n\u001b[32m---> \u001b[39m\u001b[32m10\u001b[39m     \u001b[38;5;28;01mimport\u001b[39;00m\u001b[38;5;250m \u001b[39m\u001b[34;01mtensorflow\u001b[39;00m\u001b[38;5;250m \u001b[39m\u001b[38;5;28;01mas\u001b[39;00m\u001b[38;5;250m \u001b[39m\u001b[34;01mtf\u001b[39;00m\n\u001b[32m     11\u001b[39m     \u001b[38;5;28mprint\u001b[39m(\u001b[33mf\u001b[39m\u001b[33m\"\u001b[39m\u001b[33m✓ TensorFlow \u001b[39m\u001b[38;5;132;01m{\u001b[39;00mtf.__version__\u001b[38;5;132;01m}\u001b[39;00m\u001b[33m já instalado\u001b[39m\u001b[33m\"\u001b[39m)\n",
      "\u001b[31mModuleNotFoundError\u001b[39m: No module named 'tensorflow'",
      "\nDuring handling of the above exception, another exception occurred:\n",
      "\u001b[31mCalledProcessError\u001b[39m                        Traceback (most recent call last)",
      "\u001b[36mCell\u001b[39m\u001b[36m \u001b[39m\u001b[32mIn[2]\u001b[39m\u001b[32m, line 14\u001b[39m\n\u001b[32m     12\u001b[39m \u001b[38;5;28;01mexcept\u001b[39;00m \u001b[38;5;167;01mImportError\u001b[39;00m:\n\u001b[32m     13\u001b[39m     \u001b[38;5;28mprint\u001b[39m(\u001b[33m\"\u001b[39m\u001b[33m⏳ Instalando TensorFlow...\u001b[39m\u001b[33m\"\u001b[39m)\n\u001b[32m---> \u001b[39m\u001b[32m14\u001b[39m     \u001b[43minstall_package\u001b[49m\u001b[43m(\u001b[49m\u001b[33;43m\"\u001b[39;49m\u001b[33;43mtensorflow>=2.16.0\u001b[39;49m\u001b[33;43m\"\u001b[39;49m\u001b[43m)\u001b[49m\n\u001b[32m     15\u001b[39m     \u001b[38;5;28;01mimport\u001b[39;00m\u001b[38;5;250m \u001b[39m\u001b[34;01mtensorflow\u001b[39;00m\u001b[38;5;250m \u001b[39m\u001b[38;5;28;01mas\u001b[39;00m\u001b[38;5;250m \u001b[39m\u001b[34;01mtf\u001b[39;00m\n\u001b[32m     16\u001b[39m     \u001b[38;5;28mprint\u001b[39m(\u001b[33mf\u001b[39m\u001b[33m\"\u001b[39m\u001b[33m✓ TensorFlow \u001b[39m\u001b[38;5;132;01m{\u001b[39;00mtf.__version__\u001b[38;5;132;01m}\u001b[39;00m\u001b[33m instalado com sucesso!\u001b[39m\u001b[33m\"\u001b[39m)\n",
      "\u001b[36mCell\u001b[39m\u001b[36m \u001b[39m\u001b[32mIn[2]\u001b[39m\u001b[32m, line 6\u001b[39m, in \u001b[36minstall_package\u001b[39m\u001b[34m(package)\u001b[39m\n\u001b[32m      5\u001b[39m \u001b[38;5;28;01mdef\u001b[39;00m\u001b[38;5;250m \u001b[39m\u001b[34minstall_package\u001b[39m(package):\n\u001b[32m----> \u001b[39m\u001b[32m6\u001b[39m     \u001b[43msubprocess\u001b[49m\u001b[43m.\u001b[49m\u001b[43mcheck_call\u001b[49m\u001b[43m(\u001b[49m\u001b[43m[\u001b[49m\u001b[43msys\u001b[49m\u001b[43m.\u001b[49m\u001b[43mexecutable\u001b[49m\u001b[43m,\u001b[49m\u001b[43m \u001b[49m\u001b[33;43m\"\u001b[39;49m\u001b[33;43m-m\u001b[39;49m\u001b[33;43m\"\u001b[39;49m\u001b[43m,\u001b[49m\u001b[43m \u001b[49m\u001b[33;43m\"\u001b[39;49m\u001b[33;43mpip\u001b[39;49m\u001b[33;43m\"\u001b[39;49m\u001b[43m,\u001b[49m\u001b[43m \u001b[49m\u001b[33;43m\"\u001b[39;49m\u001b[33;43minstall\u001b[39;49m\u001b[33;43m\"\u001b[39;49m\u001b[43m,\u001b[49m\u001b[43m \u001b[49m\u001b[33;43m\"\u001b[39;49m\u001b[33;43m-q\u001b[39;49m\u001b[33;43m\"\u001b[39;49m\u001b[43m,\u001b[49m\u001b[43m \u001b[49m\u001b[43mpackage\u001b[49m\u001b[43m]\u001b[49m\u001b[43m)\u001b[49m\n",
      "\u001b[36mFile \u001b[39m\u001b[32m/usr/local/Cellar/python@3.13/3.13.4/Frameworks/Python.framework/Versions/3.13/lib/python3.13/subprocess.py:419\u001b[39m, in \u001b[36mcheck_call\u001b[39m\u001b[34m(*popenargs, **kwargs)\u001b[39m\n\u001b[32m    417\u001b[39m     \u001b[38;5;28;01mif\u001b[39;00m cmd \u001b[38;5;129;01mis\u001b[39;00m \u001b[38;5;28;01mNone\u001b[39;00m:\n\u001b[32m    418\u001b[39m         cmd = popenargs[\u001b[32m0\u001b[39m]\n\u001b[32m--> \u001b[39m\u001b[32m419\u001b[39m     \u001b[38;5;28;01mraise\u001b[39;00m CalledProcessError(retcode, cmd)\n\u001b[32m    420\u001b[39m \u001b[38;5;28;01mreturn\u001b[39;00m \u001b[32m0\u001b[39m\n",
      "\u001b[31mCalledProcessError\u001b[39m: Command '['/Users/Rafael-Freitas/Desktop/Estudos/venv/bin/python', '-m', 'pip', 'install', '-q', 'tensorflow>=2.16.0']' returned non-zero exit status 1."
     ]
    }
   ],
   "source": [
    "# ⚠️ IMPORTANTE: Instale as dependências via terminal ANTES de executar este notebook!\n",
    "#\n",
    "# Você está usando Python 3.13, que pode ter problemas com TensorFlow 2.16+\n",
    "#\n",
    "# Execute no terminal (fora do notebook):\n",
    "#\n",
    "# cd \"/Users/Rafael-Freitas/Desktop/Estudos/Python/IA/Minst mlp\"\n",
    "# pip install tensorflow numpy matplotlib scikit-learn jupyter\n",
    "#\n",
    "# OU use o arquivo requirements.txt:\n",
    "# pip install -r requirements.txt\n",
    "#\n",
    "# Depois volte e execute a próxima célula!\n",
    "\n",
    "print(\"⚠️ ATENÇÃO: Instale as dependências via terminal primeiro!\")\n",
    "print(\"Execute: pip install -r requirements.txt\")\n",
    "print(\"\\nDepois execute a próxima célula para verificar.\")\n"
   ]
  },
  {
   "cell_type": "code",
   "execution_count": 1,
   "id": "bff0d670",
   "metadata": {},
   "outputs": [
    {
     "ename": "ModuleNotFoundError",
     "evalue": "No module named 'tensorflow'",
     "output_type": "error",
     "traceback": [
      "\u001b[31m---------------------------------------------------------------------------\u001b[39m",
      "\u001b[31mModuleNotFoundError\u001b[39m                       Traceback (most recent call last)",
      "\u001b[36mCell\u001b[39m\u001b[36m \u001b[39m\u001b[32mIn[1]\u001b[39m\u001b[32m, line 8\u001b[39m\n\u001b[32m      1\u001b[39m \u001b[38;5;66;03m# 🔬 Experimentos com MLP MNIST - Notebook Simplificado\u001b[39;00m\n\u001b[32m      2\u001b[39m \u001b[38;5;66;03m# Para uso local ou no Google Colab\u001b[39;00m\n\u001b[32m      3\u001b[39m \n\u001b[32m      4\u001b[39m \u001b[38;5;66;03m# Se estiver no Colab e precisar de versão específica do TensorFlow:\u001b[39;00m\n\u001b[32m      5\u001b[39m \u001b[38;5;66;03m# !pip install -q tensorflow==2.16.0\u001b[39;00m\n\u001b[32m      7\u001b[39m \u001b[38;5;28;01mimport\u001b[39;00m\u001b[38;5;250m \u001b[39m\u001b[34;01mnumpy\u001b[39;00m\u001b[38;5;250m \u001b[39m\u001b[38;5;28;01mas\u001b[39;00m\u001b[38;5;250m \u001b[39m\u001b[34;01mnp\u001b[39;00m\n\u001b[32m----> \u001b[39m\u001b[32m8\u001b[39m \u001b[38;5;28;01mimport\u001b[39;00m\u001b[38;5;250m \u001b[39m\u001b[34;01mtensorflow\u001b[39;00m\u001b[38;5;250m \u001b[39m\u001b[38;5;28;01mas\u001b[39;00m\u001b[38;5;250m \u001b[39m\u001b[34;01mtf\u001b[39;00m\n\u001b[32m      9\u001b[39m \u001b[38;5;28;01mimport\u001b[39;00m\u001b[38;5;250m \u001b[39m\u001b[34;01mmatplotlib\u001b[39;00m\u001b[34;01m.\u001b[39;00m\u001b[34;01mpyplot\u001b[39;00m\u001b[38;5;250m \u001b[39m\u001b[38;5;28;01mas\u001b[39;00m\u001b[38;5;250m \u001b[39m\u001b[34;01mplt\u001b[39;00m\n\u001b[32m     10\u001b[39m \u001b[38;5;28;01mfrom\u001b[39;00m\u001b[38;5;250m \u001b[39m\u001b[34;01mtensorflow\u001b[39;00m\u001b[34;01m.\u001b[39;00m\u001b[34;01mkeras\u001b[39;00m\u001b[34;01m.\u001b[39;00m\u001b[34;01mmodels\u001b[39;00m\u001b[38;5;250m \u001b[39m\u001b[38;5;28;01mimport\u001b[39;00m load_model\n",
      "\u001b[31mModuleNotFoundError\u001b[39m: No module named 'tensorflow'"
     ]
    }
   ],
   "source": [
    "# 🔬 Experimentos com MLP MNIST - Notebook Simplificado\n",
    "# Para uso local ou no Google Colab\n",
    "\n",
    "# Se estiver no Colab e precisar de versão específica do TensorFlow:\n",
    "# !pip install -q tensorflow==2.16.0\n",
    "\n",
    "import numpy as np\n",
    "import tensorflow as tf\n",
    "import matplotlib.pyplot as plt\n",
    "from tensorflow.keras.models import load_model\n",
    "\n",
    "# Importar funções auxiliares (certifique-se que utils.py está no mesmo diretório)\n",
    "from utils import preprocess_mnist, add_gaussian_noise, plot_history\n",
    "\n",
    "print('✓ TensorFlow version:', tf.__version__)\n",
    "print('✓ NumPy version:', np.__version__)\n",
    "print('✓ Imports concluídos com sucesso!')"
   ]
  },
  {
   "cell_type": "code",
   "execution_count": null,
   "id": "42af2977",
   "metadata": {},
   "outputs": [],
   "source": [
    "# 📁 Instruções de Uso:\n",
    "#\n",
    "# Google Colab:\n",
    "#   1. Faça upload de utils.py e main.py (Files > Upload)\n",
    "#   2. Execute: !ls -la *.py\n",
    "#\n",
    "# Local: Os imports da célula anterior já funcionam!\n",
    "\n",
    "print(\"✓ Notebook pronto para uso\")\n",
    "print(\"ℹ️ Para análise completa, use: mnist_robustness_analysis.ipynb\")"
   ]
  },
  {
   "cell_type": "code",
   "execution_count": null,
   "id": "8e487407",
   "metadata": {},
   "outputs": [],
   "source": [
    "# Opção 1: Executar main.py (gera modelos e outputs em diretório)\n",
    "# !python main.py\n",
    "\n",
    "# Opção 2: Executar experimento inline (código abaixo)\n",
    "# Isso permite ver os resultados diretamente no notebook\n",
    "\n",
    "print(\"Escolha uma opção:\")\n",
    "print(\"1. Para executar main.py, descomente a linha acima\")\n",
    "print(\"2. Para experimento inline, execute as próximas células\")\n",
    "print(\"\\nRecomendação: Use o notebook 'mnist_robustness_analysis.ipynb' para análise completa!\")"
   ]
  },
  {
   "cell_type": "code",
   "execution_count": null,
   "id": "0fc8b60c",
   "metadata": {},
   "outputs": [],
   "source": [
    "# Esta célula carrega modelos já treinados e avalia\n",
    "# Certifique-se de que os modelos existem no diretório 'outputs/'\n",
    "\n",
    "import os\n",
    "\n",
    "# Verificar se existem modelos salvos\n",
    "model_dir = 'outputs'\n",
    "if os.path.exists(model_dir):\n",
    "    model_files = [f for f in os.listdir(model_dir) if f.endswith('.h5')]\n",
    "    print(f\"✓ Encontrados {len(model_files)} modelos em '{model_dir}/'\")\n",
    "\n",
    "    # Carregar dados de teste\n",
    "    (x_train, y_train), (x_test, y_test) = tf.keras.datasets.mnist.load_data()\n",
    "    x_train, x_test = preprocess_mnist(x_train, x_test)\n",
    "    x_test_noisy = add_gaussian_noise(x_test, std=0.2, seed=42)\n",
    "\n",
    "    # Avaliar cada modelo encontrado\n",
    "    for model_file in sorted(model_files):\n",
    "        model_path = os.path.join(model_dir, model_file)\n",
    "        print(f\"\\n{'='*60}\")\n",
    "        print(f\"Avaliando: {model_file}\")\n",
    "        print('='*60)\n",
    "\n",
    "        try:\n",
    "            model = load_model(model_path)\n",
    "\n",
    "            # Avaliar em dados limpos\n",
    "            clean_loss, clean_acc = model.evaluate(x_test, y_test, verbose=0)\n",
    "            print(f\"✓ Dados limpos:   Loss={clean_loss:.4f}, Accuracy={clean_acc:.4f}\")\n",
    "\n",
    "            # Avaliar em dados ruidosos\n",
    "            noisy_loss, noisy_acc = model.evaluate(x_test_noisy, y_test, verbose=0)\n",
    "            print(f\"✓ Dados ruidosos: Loss={noisy_loss:.4f}, Accuracy={noisy_acc:.4f}\")\n",
    "\n",
    "            # Calcular degradação\n",
    "            degradation = (clean_acc - noisy_acc) * 100\n",
    "            print(f\"✓ Degradação:     {degradation:.2f}%\")\n",
    "\n",
    "        except Exception as e:\n",
    "            print(f\"❌ Erro ao carregar modelo: {str(e)}\")\n",
    "else:\n",
    "    print(f\"⚠️ Diretório '{model_dir}/' não encontrado!\")\n",
    "    print(\"Execute 'main.py' primeiro para gerar os modelos:\")\n",
    "    print(\"  !python main.py\")\n",
    "    print(\"\\nOu use o notebook 'mnist_robustness_analysis.ipynb' para análise completa.\")"
   ]
  },
  {
   "cell_type": "markdown",
   "id": "6a2aa44f",
   "metadata": {},
   "source": [
    "## 📊 Experimento Rápido Inline\n",
    "\n",
    "Se você quiser executar um experimento rápido diretamente no notebook (sem precisar executar `main.py`), use as células abaixo:\n"
   ]
  },
  {
   "cell_type": "code",
   "execution_count": null,
   "id": "7f62c1ca",
   "metadata": {},
   "outputs": [],
   "source": [
    "# Experimento rápido: Teste único com inicialização HeUniform\n",
    "from tensorflow.keras.models import Sequential\n",
    "from tensorflow.keras.layers import Dense\n",
    "from tensorflow.keras.initializers import HeUniform\n",
    "from tensorflow.keras.optimizers import Adam\n",
    "\n",
    "print(\"Carregando dados MNIST...\")\n",
    "(x_train, y_train), (x_test, y_test) = tf.keras.datasets.mnist.load_data()\n",
    "x_train, x_test = preprocess_mnist(x_train, x_test)\n",
    "x_test_noisy = add_gaussian_noise(x_test, std=0.2, seed=42)\n",
    "\n",
    "print(\"Construindo modelo...\")\n",
    "model = Sequential([\n",
    "    Dense(64, activation='relu', input_shape=(784,), \n",
    "          kernel_initializer=HeUniform(seed=42)),\n",
    "    Dense(10, activation='softmax')\n",
    "])\n",
    "\n",
    "model.compile(optimizer=Adam(learning_rate=0.001),\n",
    "              loss='sparse_categorical_crossentropy',\n",
    "              metrics=['accuracy'])\n",
    "\n",
    "print(\"Treinando modelo (5 épocas)...\")\n",
    "history = model.fit(x_train, y_train,\n",
    "                   batch_size=128,\n",
    "                   epochs=5,\n",
    "                   validation_split=0.1,\n",
    "                   verbose=1)\n",
    "\n",
    "# Avaliar\n",
    "print(\"\\nAvaliando modelo...\")\n",
    "clean_loss, clean_acc = model.evaluate(x_test, y_test, verbose=0)\n",
    "noisy_loss, noisy_acc = model.evaluate(x_test_noisy, y_test, verbose=0)\n",
    "degradation = (clean_acc - noisy_acc) * 100\n",
    "\n",
    "print(\"\\n\" + \"=\"*60)\n",
    "print(\"RESULTADOS:\")\n",
    "print(\"=\"*60)\n",
    "print(f\"✓ Accuracy (dados limpos):   {clean_acc:.4f}\")\n",
    "print(f\"✓ Accuracy (dados ruidosos): {noisy_acc:.4f}\")\n",
    "print(f\"✓ Degradação:                {degradation:.2f}%\")\n",
    "print(\"=\"*60)\n"
   ]
  },
  {
   "cell_type": "markdown",
   "id": "e2933000",
   "metadata": {},
   "source": [
    "## 🎯 Recomendações\n",
    "\n",
    "### Para análise completa e detalhada:\n",
    "📓 **Use: `mnist_robustness_analysis.ipynb`**\n",
    "- Compara 4 inicializadores diferentes\n",
    "- Gera gráficos comparativos\n",
    "- Tabelas de resultados\n",
    "- Análise interpretativa\n",
    "\n",
    "### Para experimentos programáticos:\n",
    "🐍 **Use os scripts Python:**\n",
    "- `quick_test.py` - Teste de instalação\n",
    "- `load_and_run_config.py` - Configurações pré-definidas\n",
    "- `run_custom_experiments.py` - Experimentos customizados\n",
    "- `advanced_experiments.py` - Suite completa\n",
    "\n",
    "### Documentação:\n",
    "📚 Consulte:\n",
    "- `QUICKSTART.md` - Início rápido\n",
    "- `SIMULATION_SUGGESTIONS.md` - Ideias de simulações\n",
    "- `EXPERIMENTS_GUIDE.md` - Guia completo\n"
   ]
  }
 ],
 "metadata": {
  "kernelspec": {
   "display_name": "venv",
   "language": "python",
   "name": "python3"
  },
  "language_info": {
   "codemirror_mode": {
    "name": "ipython",
    "version": 3
   },
   "file_extension": ".py",
   "mimetype": "text/x-python",
   "name": "python",
   "nbconvert_exporter": "python",
   "pygments_lexer": "ipython3",
   "version": "3.13.4"
  }
 },
 "nbformat": 4,
 "nbformat_minor": 5
}
